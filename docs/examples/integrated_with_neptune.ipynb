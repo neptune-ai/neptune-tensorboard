{
 "cells": [
  {
   "cell_type": "markdown",
   "metadata": {},
   "source": [
    "# Experiment comparison\n",
    "\n",
    "## Prerequisites\n",
    "\n",
    "Let's create a simple training script with `TensorBoard` logging."
   ]
  },
  {
   "cell_type": "code",
   "execution_count": null,
   "metadata": {},
   "outputs": [],
   "source": [
    "import random\n",
    "\n",
    "import tensorflow as tf\n",
    "\n",
    "PARAMS = {\n",
    "    'epoch_nr': 5,\n",
    "    'batch_size': 256,\n",
    "    'lr': 0.1,\n",
    "    'momentum': 0.4,\n",
    "    'use_nesterov': True,\n",
    "    'unit_nr': 256,\n",
    "    'dropout': 0.0\n",
    "}\n",
    "\n",
    "RUN_NAME = 'run_{}'.format(random.getrandbits(64))\n",
    "EXPERIMENT_LOG_DIR = 'logs/{}'.format(RUN_NAME)\n",
    "\n",
    "mnist = tf.keras.datasets.mnist\n",
    "(x_train, y_train),(x_test, y_test) = mnist.load_data()\n",
    "x_train, x_test = x_train / 255.0, x_test / 255.0\n",
    "\n",
    "model = tf.keras.models.Sequential([\n",
    "  tf.keras.layers.Flatten(),\n",
    "  tf.keras.layers.Dense(PARAMS['unit_nr'], activation=tf.nn.relu),\n",
    "  tf.keras.layers.Dropout(PARAMS['dropout']),\n",
    "  tf.keras.layers.Dense(10, activation=tf.nn.softmax)\n",
    "])\n",
    "\n",
    "optimizer = tf.keras.optimizers.SGD(lr=PARAMS['lr'],\n",
    "                                    momentum=PARAMS['momentum'],\n",
    "                                    nesterov=PARAMS['use_nesterov'],)\n",
    "\n",
    "model.compile(optimizer=optimizer,\n",
    "              loss='sparse_categorical_crossentropy',\n",
    "              metrics=['accuracy'])\n",
    "\n",
    "tensorboard = tf.keras.callbacks.TensorBoard(log_dir=EXPERIMENT_LOG_DIR)\n",
    "model.fit(x_train, y_train, \n",
    "          epochs=PARAMS['epoch_nr'], \n",
    "          batch_size=PARAMS['batch_size'],\n",
    "          callbacks=[tensorboard])"
   ]
  },
  {
   "cell_type": "markdown",
   "metadata": {},
   "source": [
    "## Initialize Neptune"
   ]
  },
  {
   "cell_type": "code",
   "execution_count": null,
   "metadata": {},
   "outputs": [],
   "source": [
    "import neptune\n",
    "\n",
    "neptune.init(project_qualified_name='jakub-czakon/tensorboard-integration')"
   ]
  },
  {
   "cell_type": "markdown",
   "metadata": {},
   "source": [
    "## Integrate with TensorBoard"
   ]
  },
  {
   "cell_type": "code",
   "execution_count": null,
   "metadata": {},
   "outputs": [],
   "source": [
    "import neptune_tensorboard as neptune_tb\n",
    "\n",
    "neptune_tb.integrate_with_tensorflow()"
   ]
  },
  {
   "cell_type": "markdown",
   "metadata": {},
   "source": [
    "## Start experiment\n",
    "\n",
    "Tel neptune to create an experiment. Let's give it a `name` and log hyperparameters.\n",
    "I like to have everything in the `with` statement if possible."
   ]
  },
  {
   "cell_type": "code",
   "execution_count": null,
   "metadata": {},
   "outputs": [],
   "source": [
    "with neptune.create_experiment(name=RUN_NAME, params=PARAMS):"
   ]
  },
  {
   "cell_type": "markdown",
   "metadata": {},
   "source": [
    "## Explore your experiment in Neptune\n",
    "By adding a few lines of code, your experiment is now logged to Neptune.\n",
    "You can go see it in your dashboard and share it with anyone just as share it with you [here](https://ui.neptune.ml/jakub-czakon/tensorboard-integration/e/TEN-41/charts).\n",
    "\n",
    "![image5](https://gist.githubusercontent.com/jakubczakon/f754769a39ea6b8fa9728ede49b9165c/raw/9412c0124439f34b42737a7f3760849761c42dc4/tensorboard_7.png)\n",
    "\n",
    "Monitor learning curves:\n",
    "\n",
    "![image1](https://gist.githubusercontent.com/jakubczakon/f754769a39ea6b8fa9728ede49b9165c/raw/9412c0124439f34b42737a7f3760849761c42dc4/tensorboard_3.png)\n",
    "\n",
    "See resource consumption:\n",
    "\n",
    "![image2](https://gist.githubusercontent.com/jakubczakon/f754769a39ea6b8fa9728ede49b9165c/raw/9412c0124439f34b42737a7f3760849761c42dc4/tensorboard_4.png)\n",
    "\n",
    "Explore the code:\n",
    "\n",
    "![image3](https://gist.githubusercontent.com/jakubczakon/f754769a39ea6b8fa9728ede49b9165c/raw/9412c0124439f34b42737a7f3760849761c42dc4/tensorboard_5.png)\n",
    "\n",
    "and access hyperparameters and other experiment details:\n",
    "\n",
    "![image4](https://gist.githubusercontent.com/jakubczakon/f754769a39ea6b8fa9728ede49b9165c/raw/9412c0124439f34b42737a7f3760849761c42dc4/tensorboard_6.png)"
   ]
  },
  {
   "cell_type": "markdown",
   "metadata": {},
   "source": [
    "## Full Script"
   ]
  },
  {
   "cell_type": "code",
   "execution_count": null,
   "metadata": {},
   "outputs": [],
   "source": [
    "import random\n",
    "\n",
    "import neptune\n",
    "import neptune_tensorboard as neptune_tb\n",
    "import tensorflow as tf\n",
    "\n",
    "neptune.init(project_qualified_name='USER_NAME/PROJECT_NAME')\n",
    "neptune_tb.integrate_with_tensorflow()\n",
    "\n",
    "PARAMS = {\n",
    "    'epoch_nr': 5,\n",
    "    'batch_size': 256,\n",
    "    'lr': 0.1,\n",
    "    'momentum': 0.4,\n",
    "    'use_nesterov': True,\n",
    "    'unit_nr': 256,\n",
    "    'dropout': 0.0\n",
    "}\n",
    "RUN_NAME = 'run_{}'.format(random.getrandbits(64))\n",
    "EXPERIMENT_LOG_DIR = 'logs/{}'.format(RUN_NAME)\n",
    "\n",
    "with neptune.create_experiment(name=RUN_NAME, params=PARAMS):\n",
    "    mnist = tf.keras.datasets.mnist\n",
    "    (x_train, y_train),(x_test, y_test) = mnist.load_data()\n",
    "    x_train, x_test = x_train / 255.0, x_test / 255.0\n",
    "\n",
    "    model = tf.keras.models.Sequential([\n",
    "      tf.keras.layers.Flatten(),\n",
    "      tf.keras.layers.Dense(PARAMS['unit_nr'], activation=tf.nn.relu),\n",
    "      tf.keras.layers.Dropout(PARAMS['dropout']),\n",
    "      tf.keras.layers.Dense(10, activation=tf.nn.softmax)\n",
    "    ])\n",
    "\n",
    "    optimizer = tf.keras.optimizers.SGD(lr=PARAMS['lr'],\n",
    "                                        momentum=PARAMS['momentum'],\n",
    "                                        nesterov=PARAMS['use_nesterov'],)\n",
    "\n",
    "    model.compile(optimizer=optimizer,\n",
    "                  loss='sparse_categorical_crossentropy',\n",
    "                  metrics=['accuracy'])\n",
    "\n",
    "    tensorboard = tf.keras.callbacks.TensorBoard(log_dir=EXPERIMENT_LOG_DIR)\n",
    "    model.fit(x_train, y_train, \n",
    "              epochs=PARAMS['epoch_nr'], \n",
    "              batch_size=PARAMS['batch_size'],\n",
    "              callbacks=[tensorboard])"
   ]
  }
 ],
 "metadata": {
  "kernelspec": {
   "display_name": "scraping",
   "language": "python",
   "name": "python3"
  },
  "language_info": {
   "codemirror_mode": {
    "name": "ipython",
    "version": 3
   },
   "file_extension": ".py",
   "mimetype": "text/x-python",
   "name": "python",
   "nbconvert_exporter": "python",
   "pygments_lexer": "ipython3",
   "version": "3.6.8"
  }
 },
 "nbformat": 4,
 "nbformat_minor": 2
}
