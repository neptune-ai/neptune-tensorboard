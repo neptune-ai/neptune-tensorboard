{
 "cells": [
  {
   "cell_type": "markdown",
   "metadata": {},
   "source": [
    "# Experiment comparison\n",
    "\n",
    "## Prerequisites\n",
    "\n",
    "Let's create a simple training script with `TensorBoard` logging."
   ]
  },
  {
   "cell_type": "code",
   "execution_count": null,
   "metadata": {},
   "outputs": [],
   "source": [
    "import random\n",
    "\n",
    "import tensorflow as tf\n",
    "\n",
    "PARAMS = {\n",
    "    'epoch_nr': 5,\n",
    "    'batch_size': 256,\n",
    "    'lr': 0.1,\n",
    "    'momentum': 0.4,\n",
    "    'use_nesterov': True,\n",
    "    'unit_nr': 256,\n",
    "    'dropout': 0.0\n",
    "}\n",
    "\n",
    "RUN_NAME = 'run_{}'.format(random.getrandbits(64))\n",
    "EXPERIMENT_LOG_DIR = 'logs/{}'.format(RUN_NAME)\n",
    "\n",
    "mnist = tf.keras.datasets.mnist\n",
    "(x_train, y_train),(x_test, y_test) = mnist.load_data()\n",
    "x_train, x_test = x_train / 255.0, x_test / 255.0\n",
    "\n",
    "model = tf.keras.models.Sequential([\n",
    "  tf.keras.layers.Flatten(),\n",
    "  tf.keras.layers.Dense(PARAMS['unit_nr'], activation=tf.nn.relu),\n",
    "  tf.keras.layers.Dropout(PARAMS['dropout']),\n",
    "  tf.keras.layers.Dense(10, activation=tf.nn.softmax)\n",
    "])\n",
    "\n",
    "optimizer = tf.keras.optimizers.SGD(lr=PARAMS['lr'],\n",
    "                                    momentum=PARAMS['momentum'],\n",
    "                                    nesterov=PARAMS['use_nesterov'],)\n",
    "\n",
    "model.compile(optimizer=optimizer,\n",
    "              loss='sparse_categorical_crossentropy',\n",
    "              metrics=['accuracy'])\n",
    "\n",
    "tensorboard = tf.keras.callbacks.TensorBoard(log_dir=EXPERIMENT_LOG_DIR)\n",
    "model.fit(x_train, y_train, \n",
    "          epochs=PARAMS['epoch_nr'], \n",
    "          batch_size=PARAMS['batch_size'],\n",
    "          callbacks=[tensorboard])"
   ]
  },
  {
   "cell_type": "markdown",
   "metadata": {},
   "source": [
    "Change parameters and run a few different experiments to see what works best.\n",
    "\n",
    "```bash\n",
    "python main.py\n",
    "```"
   ]
  },
  {
   "cell_type": "markdown",
   "metadata": {},
   "source": [
    "## Sync TensorBoard logdir with Neptune\n",
    "You can now sync your `logs` directory with Neptune.\n",
    "\n",
    "```bash\n",
    "neptune tensorflow logs --project USER_NAME/PROJECT_NAME\n",
    "```\n",
    "\n",
    "and be able to organize  and collaborate on [your experiments](https://ui.neptune.ml/jakub-czakon/tensorboard-integration/experiments?filterId=bcef6881-128a-4126-a582-31b179bebf67) :\n",
    "\n",
    "![image1](https://gist.githubusercontent.com/jakubczakon/f754769a39ea6b8fa9728ede49b9165c/raw/9412c0124439f34b42737a7f3760849761c42dc4/tensorboard_1.png)\n",
    "\n",
    "You can compare runs just like in TensorBoard:\n",
    "\n",
    "![image2](https://gist.githubusercontent.com/jakubczakon/f754769a39ea6b8fa9728ede49b9165c/raw/9412c0124439f34b42737a7f3760849761c42dc4/tensorboard_2.png)"
   ]
  }
 ],
 "metadata": {
  "kernelspec": {
   "display_name": "scraping",
   "language": "python",
   "name": "python3"
  },
  "language_info": {
   "codemirror_mode": {
    "name": "ipython",
    "version": 3
   },
   "file_extension": ".py",
   "mimetype": "text/x-python",
   "name": "python",
   "nbconvert_exporter": "python",
   "pygments_lexer": "ipython3",
   "version": "3.6.8"
  }
 },
 "nbformat": 4,
 "nbformat_minor": 2
}
